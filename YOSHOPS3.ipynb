{
 "cells": [
  {
   "cell_type": "code",
   "execution_count": 3,
   "id": "7575c682",
   "metadata": {},
   "outputs": [
    {
     "ename": "WebDriverException",
     "evalue": "Message: unknown error: cannot determine loading status\nfrom disconnected: not connected to DevTools\n  (Session info: chrome=102.0.5005.115)\nStacktrace:\nBacktrace:\n\tOrdinal0 [0x00C8D953+2414931]\n\tOrdinal0 [0x00C1F5E1+1963489]\n\tOrdinal0 [0x00B0C6B8+837304]\n\tOrdinal0 [0x00AFC8FC+772348]\n\tOrdinal0 [0x00AFCB68+772968]\n\tOrdinal0 [0x00B07A85+817797]\n\tOrdinal0 [0x00B1255B+861531]\n\tOrdinal0 [0x00B14F70+872304]\n\tOrdinal0 [0x00AFCE36+773686]\n\tOrdinal0 [0x00B12197+860567]\n\tOrdinal0 [0x00B64B55+1198933]\n\tOrdinal0 [0x00B542B6+1131190]\n\tOrdinal0 [0x00B2E860+976992]\n\tOrdinal0 [0x00B2F756+980822]\n\tGetHandleVerifier [0x00EFCC62+2510274]\n\tGetHandleVerifier [0x00EEF760+2455744]\n\tGetHandleVerifier [0x00D1EABA+551962]\n\tGetHandleVerifier [0x00D1D916+547446]\n\tOrdinal0 [0x00C25F3B+1990459]\n\tOrdinal0 [0x00C2A898+2009240]\n\tOrdinal0 [0x00C2A985+2009477]\n\tOrdinal0 [0x00C33AD1+2046673]\n\tBaseThreadInitThunk [0x74EDFA29+25]\n\tRtlGetAppContainerNamedObjectPath [0x76FF7A9E+286]\n\tRtlGetAppContainerNamedObjectPath [0x76FF7A6E+238]\n",
     "output_type": "error",
     "traceback": [
      "\u001b[1;31m---------------------------------------------------------------------------\u001b[0m",
      "\u001b[1;31mWebDriverException\u001b[0m                        Traceback (most recent call last)",
      "Input \u001b[1;32mIn [3]\u001b[0m, in \u001b[0;36m<cell line: 39>\u001b[1;34m()\u001b[0m\n\u001b[0;32m     37\u001b[0m browser \u001b[38;5;241m=\u001b[39m webdriver\u001b[38;5;241m.\u001b[39mChrome(service\u001b[38;5;241m=\u001b[39ms)\n\u001b[0;32m     38\u001b[0m url\u001b[38;5;241m=\u001b[39m\u001b[38;5;124m\"\u001b[39m\u001b[38;5;124mhttps://yoshops.com/products?page=3\u001b[39m\u001b[38;5;124m\"\u001b[39m \n\u001b[1;32m---> 39\u001b[0m \u001b[43mbrowser\u001b[49m\u001b[38;5;241;43m.\u001b[39;49m\u001b[43mget\u001b[49m\u001b[43m(\u001b[49m\u001b[43murl\u001b[49m\u001b[43m)\u001b[49m\n\u001b[0;32m     40\u001b[0m time\u001b[38;5;241m.\u001b[39msleep(\u001b[38;5;241m5\u001b[39m)\n\u001b[0;32m     43\u001b[0m \u001b[38;5;66;03m# In[13]:\u001b[39;00m\n",
      "File \u001b[1;32m~\\anaconda3\\lib\\site-packages\\selenium\\webdriver\\remote\\webdriver.py:437\u001b[0m, in \u001b[0;36mWebDriver.get\u001b[1;34m(self, url)\u001b[0m\n\u001b[0;32m    433\u001b[0m \u001b[38;5;28;01mdef\u001b[39;00m \u001b[38;5;21mget\u001b[39m(\u001b[38;5;28mself\u001b[39m, url: \u001b[38;5;28mstr\u001b[39m) \u001b[38;5;241m-\u001b[39m\u001b[38;5;241m>\u001b[39m \u001b[38;5;28;01mNone\u001b[39;00m:\n\u001b[0;32m    434\u001b[0m     \u001b[38;5;124;03m\"\"\"\u001b[39;00m\n\u001b[0;32m    435\u001b[0m \u001b[38;5;124;03m    Loads a web page in the current browser session.\u001b[39;00m\n\u001b[0;32m    436\u001b[0m \u001b[38;5;124;03m    \"\"\"\u001b[39;00m\n\u001b[1;32m--> 437\u001b[0m     \u001b[38;5;28;43mself\u001b[39;49m\u001b[38;5;241;43m.\u001b[39;49m\u001b[43mexecute\u001b[49m\u001b[43m(\u001b[49m\u001b[43mCommand\u001b[49m\u001b[38;5;241;43m.\u001b[39;49m\u001b[43mGET\u001b[49m\u001b[43m,\u001b[49m\u001b[43m \u001b[49m\u001b[43m{\u001b[49m\u001b[38;5;124;43m'\u001b[39;49m\u001b[38;5;124;43murl\u001b[39;49m\u001b[38;5;124;43m'\u001b[39;49m\u001b[43m:\u001b[49m\u001b[43m \u001b[49m\u001b[43murl\u001b[49m\u001b[43m}\u001b[49m\u001b[43m)\u001b[49m\n",
      "File \u001b[1;32m~\\anaconda3\\lib\\site-packages\\selenium\\webdriver\\remote\\webdriver.py:425\u001b[0m, in \u001b[0;36mWebDriver.execute\u001b[1;34m(self, driver_command, params)\u001b[0m\n\u001b[0;32m    423\u001b[0m response \u001b[38;5;241m=\u001b[39m \u001b[38;5;28mself\u001b[39m\u001b[38;5;241m.\u001b[39mcommand_executor\u001b[38;5;241m.\u001b[39mexecute(driver_command, params)\n\u001b[0;32m    424\u001b[0m \u001b[38;5;28;01mif\u001b[39;00m response:\n\u001b[1;32m--> 425\u001b[0m     \u001b[38;5;28;43mself\u001b[39;49m\u001b[38;5;241;43m.\u001b[39;49m\u001b[43merror_handler\u001b[49m\u001b[38;5;241;43m.\u001b[39;49m\u001b[43mcheck_response\u001b[49m\u001b[43m(\u001b[49m\u001b[43mresponse\u001b[49m\u001b[43m)\u001b[49m\n\u001b[0;32m    426\u001b[0m     response[\u001b[38;5;124m'\u001b[39m\u001b[38;5;124mvalue\u001b[39m\u001b[38;5;124m'\u001b[39m] \u001b[38;5;241m=\u001b[39m \u001b[38;5;28mself\u001b[39m\u001b[38;5;241m.\u001b[39m_unwrap_value(\n\u001b[0;32m    427\u001b[0m         response\u001b[38;5;241m.\u001b[39mget(\u001b[38;5;124m'\u001b[39m\u001b[38;5;124mvalue\u001b[39m\u001b[38;5;124m'\u001b[39m, \u001b[38;5;28;01mNone\u001b[39;00m))\n\u001b[0;32m    428\u001b[0m     \u001b[38;5;28;01mreturn\u001b[39;00m response\n",
      "File \u001b[1;32m~\\anaconda3\\lib\\site-packages\\selenium\\webdriver\\remote\\errorhandler.py:247\u001b[0m, in \u001b[0;36mErrorHandler.check_response\u001b[1;34m(self, response)\u001b[0m\n\u001b[0;32m    245\u001b[0m         alert_text \u001b[38;5;241m=\u001b[39m value[\u001b[38;5;124m'\u001b[39m\u001b[38;5;124malert\u001b[39m\u001b[38;5;124m'\u001b[39m]\u001b[38;5;241m.\u001b[39mget(\u001b[38;5;124m'\u001b[39m\u001b[38;5;124mtext\u001b[39m\u001b[38;5;124m'\u001b[39m)\n\u001b[0;32m    246\u001b[0m     \u001b[38;5;28;01mraise\u001b[39;00m exception_class(message, screen, stacktrace, alert_text)  \u001b[38;5;66;03m# type: ignore[call-arg]  # mypy is not smart enough here\u001b[39;00m\n\u001b[1;32m--> 247\u001b[0m \u001b[38;5;28;01mraise\u001b[39;00m exception_class(message, screen, stacktrace)\n",
      "\u001b[1;31mWebDriverException\u001b[0m: Message: unknown error: cannot determine loading status\nfrom disconnected: not connected to DevTools\n  (Session info: chrome=102.0.5005.115)\nStacktrace:\nBacktrace:\n\tOrdinal0 [0x00C8D953+2414931]\n\tOrdinal0 [0x00C1F5E1+1963489]\n\tOrdinal0 [0x00B0C6B8+837304]\n\tOrdinal0 [0x00AFC8FC+772348]\n\tOrdinal0 [0x00AFCB68+772968]\n\tOrdinal0 [0x00B07A85+817797]\n\tOrdinal0 [0x00B1255B+861531]\n\tOrdinal0 [0x00B14F70+872304]\n\tOrdinal0 [0x00AFCE36+773686]\n\tOrdinal0 [0x00B12197+860567]\n\tOrdinal0 [0x00B64B55+1198933]\n\tOrdinal0 [0x00B542B6+1131190]\n\tOrdinal0 [0x00B2E860+976992]\n\tOrdinal0 [0x00B2F756+980822]\n\tGetHandleVerifier [0x00EFCC62+2510274]\n\tGetHandleVerifier [0x00EEF760+2455744]\n\tGetHandleVerifier [0x00D1EABA+551962]\n\tGetHandleVerifier [0x00D1D916+547446]\n\tOrdinal0 [0x00C25F3B+1990459]\n\tOrdinal0 [0x00C2A898+2009240]\n\tOrdinal0 [0x00C2A985+2009477]\n\tOrdinal0 [0x00C33AD1+2046673]\n\tBaseThreadInitThunk [0x74EDFA29+25]\n\tRtlGetAppContainerNamedObjectPath [0x76FF7A9E+286]\n\tRtlGetAppContainerNamedObjectPath [0x76FF7A6E+238]\n"
     ]
    }
   ],
   "source": [
    "#!/usr/bin/env python\n",
    "# coding: utf-8\n",
    "\n",
    "# In[56]:\n",
    "\n",
    "\n",
    "from selenium import webdriver\n",
    "from webdriver_manager.chrome import ChromeDriverManager\n",
    "import random\n",
    "from selenium.webdriver.common.keys import Keys\n",
    "import warnings\n",
    "warnings.filterwarnings(\"ignore\")\n",
    "\n",
    "\n",
    "# In[57]:\n",
    "\n",
    "\n",
    "from bs4 import BeautifulSoup \n",
    "import requests \n",
    "import csv\n",
    "import pandas as pd\n",
    "from urllib.request import Request,urlopen\n",
    "\n",
    "\n",
    "# In[58]:\n",
    "\n",
    "\n",
    "import pyautogui\n",
    "import time\n",
    "\n",
    "\n",
    "# In[72]:\n",
    "\n",
    "\n",
    "from selenium.webdriver.chrome.service import Service\n",
    "s=Service(\"C:\\\\Users\\\\Pandi\\\\chromedriver.exe\")\n",
    "browser = webdriver.Chrome(service=s)\n",
    "url=\"https://yoshops.com/products?page=3\" \n",
    "browser.get(url)\n",
    "time.sleep(5)\n",
    "\n",
    "\n",
    "# In[13]:\n",
    "\n",
    "\n",
    "hdr = {'User-Agent': 'Mozilla/5.0'}\n",
    "Link = []\n",
    "site = url\n",
    "req = Request(site , headers = hdr)\n",
    "page = urlopen(req)\n",
    "soup = BeautifulSoup(page)\n",
    "link = soup.find_all('a' , class_=\"product-link\")\n",
    "for l in link:\n",
    "    Link.append(\"https://yoshops.com\"+l[\"href\"])\n",
    "        \n",
    "        \n",
    "print(Link)\n",
    "\n",
    "\n",
    "# In[18]:\n",
    "\n",
    "\n",
    "ReviewStar = []\n",
    "ReviewStar1 = []\n",
    "Link1 = []\n",
    "driver = webdriver.Chrome(executable_path=\"C:\\\\Users\\\\Pandi\\\\chromedriver.exe\")\n",
    "for i in Link:\n",
    "    driver.get(i)\n",
    "    driver.implicitly_wait(100)\n",
    "    ReviewStar = driver.find_element_by_class_name(\"yotpo-stars\")\n",
    "    if ReviewStar.text == '0.0 star rating':\n",
    "        continue\n",
    "        \n",
    "    else:\n",
    "        ReviewStar1.append(ReviewStar.text)\n",
    "        Link1.append(i)\n",
    "            \n",
    "        \n",
    "    \n",
    "ReviewStar1 = list(filter(None,ReviewStar1))\n",
    "print(len(ReviewStar1))\n",
    "print(ReviewStar1)\n",
    "\n",
    "\n",
    "# In[94]:\n",
    "\n",
    "\n",
    "print(Link1)\n",
    "\n",
    "\n",
    "# In[95]:\n",
    "\n",
    "\n",
    "print(len(Link1))\n",
    "\n",
    "\n",
    "# In[96]:\n",
    "\n",
    "\n",
    "Name = []\n",
    "driver = webdriver.Chrome(executable_path=\"C:\\\\Users\\\\Pandi\\\\chromedriver.exe\",encoding=\"utf-8\")\n",
    "for i in Link1:\n",
    "    driver.get(i)\n",
    "    driver.implicitly_wait(100)\n",
    "    name = driver.find_element_by_class_name(\"single-product-title\")\n",
    "    Name.append(name.text)\n",
    "            \n",
    "        \n",
    "    \n",
    "Name = list(filter(None,Name))\n",
    "print(len(Name))\n",
    "print(Name)\n",
    "\n",
    "\n",
    "# In[53]:\n",
    "\n",
    "\n",
    "Customer_Name = []\n",
    "Customer_Name1 = []\n",
    "Customer_Name_Final = []\n",
    "driver = webdriver.Chrome(executable_path=\"C:\\\\Users\\\\Pandi\\\\chromedriver.exe\",encoding=\"utf-8\")\n",
    "for i in range(len(Link1)):\n",
    "    driver.get(Link1[i])\n",
    "    driver.implicitly_wait(100)\n",
    "    Customer_Name = driver.find_elements_by_xpath(\"//span[@class='y-label yotpo-user-name yotpo-font-bold pull-left']\")\n",
    "    for j in Customer_Name:\n",
    "        Customer_Name1.append(j.text)\n",
    "    \n",
    "    Customer_Name1 = list(filter(None,Customer_Name1))\n",
    "    Customer_Name_Final.append(Customer_Name1)\n",
    "    Customer_Name1 = []\n",
    "\n",
    "print(Customer_Name_Final)\n",
    "\n",
    "\n",
    "# In[89]:\n",
    "\n",
    "\n",
    "from selenium.webdriver.common.by import By\n",
    "from selenium.webdriver.support.ui import WebDriverWait\n",
    "from selenium.webdriver.support import expected_conditions as EC\n",
    "\n",
    "driver = webdriver.Chrome(executable_path=\"C:\\\\Users\\\\Pandi\\\\chromedriver.exe\",encoding=\"utf-8\")\n",
    "driver.get(Link1[5])\n",
    "driver.implicitly_wait(100)\n",
    "    \n",
    "reviewButton=driver.find_element_by_xpath(\"//span[@class='yotpo-icon-button-text']\")\n",
    "\n",
    "driver.execute_script(\"arguments[0].click();\", reviewButton)\n",
    "\n",
    "titleField = WebDriverWait(driver, 2).until(EC.presence_of_element_located((By.NAME, \"review_title\")))\n",
    "reviewField = WebDriverWait(driver, 2).until(EC.presence_of_element_located((By.NAME, \"review_content\")))\n",
    "userIDField = WebDriverWait(driver, 2).until(EC.presence_of_element_located((By.NAME, \"display_name\")))\n",
    "emailIDField = WebDriverWait(driver, 2).until(EC.presence_of_element_located((By.NAME, \"email\")))\n",
    "    \n",
    "titleField.send_keys('Great Product')\n",
    "reviewField.send_keys('Dear Customer, Thank you for your amazing feedback!')\n",
    "userIDField.send_keys('Yoshops')\n",
    "emailIDField.send_keys('sabitalangkam.yoshops@gmail.com')\n",
    " \n",
    "starRating = WebDriverWait(driver, 2).until(EC.presence_of_element_located((By.XPATH, \"//span[@class='yotpo-icon pull-left review-star yotpo-icon-empty-star']\")))\n",
    "starRating = driver.find_element_by_xpath(\"/html/body/div[2]/div[4]/div[3]/div[2]/div/div/form/div/div/div[1]/div[3]/span/span[5]\")\n",
    "driver.execute_script(\"arguments[0].click();\", starRating)\n",
    "    \n",
    "time.sleep(5)\n",
    "    \n",
    "postButton=driver.find_element_by_xpath(\"//input[@class='yotpo-default-button primary-color-btn yotpo-submit']\")\n",
    "driver.execute_script(\"arguments[0].click();\", postButton)\n",
    "\n",
    "\n",
    "# In[97]:\n",
    "\n",
    "\n",
    "from pandas import ExcelWriter\n",
    "from pandas import ExcelFile\n",
    "    \n",
    "Final_List = []\n",
    "\n",
    "Final_List = [Name,Link1,Customer_Name_Final,ReviewStar1]\n",
    "\n",
    "print(Final_List)\n",
    "\n",
    "df = pd.DataFrame (Final_List).transpose() \n",
    "df.columns = ['Product_name','Product_URL','Customer_Name','Product_Rating']\n",
    "    \n",
    "\n",
    "writer = ExcelWriter('Task_3.xlsx')\n",
    "df.to_excel(writer,'Sheet1',index=False)\n",
    "writer.save()\n",
    "\n",
    "\n",
    "# In[98]:\n",
    "\n",
    "\n",
    "pd.read_excel('Task_3.xlsx')\n",
    "\n",
    "print(\"products list\")\n",
    "# In[ ]:\n",
    "\n",
    "\n",
    "\n",
    "\n"
   ]
  },
  {
   "cell_type": "code",
   "execution_count": null,
   "id": "9d74fc47",
   "metadata": {},
   "outputs": [],
   "source": [
    "!pip install webdriver"
   ]
  },
  {
   "cell_type": "code",
   "execution_count": null,
   "id": "7ae0ce58",
   "metadata": {},
   "outputs": [],
   "source": [
    "!pip install chromedrivermanager"
   ]
  },
  {
   "cell_type": "code",
   "execution_count": null,
   "id": "3d3d59c0",
   "metadata": {},
   "outputs": [],
   "source": [
    "!pip install ChromeDriverManager"
   ]
  },
  {
   "cell_type": "code",
   "execution_count": null,
   "id": "bf051890",
   "metadata": {},
   "outputs": [],
   "source": [
    "!pip install selenium"
   ]
  },
  {
   "cell_type": "code",
   "execution_count": null,
   "id": "e99298cf",
   "metadata": {},
   "outputs": [],
   "source": [
    "!pip install webdriver"
   ]
  },
  {
   "cell_type": "code",
   "execution_count": null,
   "id": "42e23983",
   "metadata": {},
   "outputs": [],
   "source": [
    "!pip install random"
   ]
  },
  {
   "cell_type": "code",
   "execution_count": null,
   "id": "6ab5c2d3",
   "metadata": {},
   "outputs": [],
   "source": [
    "!pip install warnings"
   ]
  },
  {
   "cell_type": "code",
   "execution_count": null,
   "id": "bfeb70b6",
   "metadata": {},
   "outputs": [],
   "source": [
    "!pip install webdrivermanger"
   ]
  },
  {
   "cell_type": "code",
   "execution_count": null,
   "id": "4f07c0fd",
   "metadata": {},
   "outputs": [],
   "source": [
    "!pip install webdriver-manager"
   ]
  },
  {
   "cell_type": "code",
   "execution_count": null,
   "id": "01e8094c",
   "metadata": {},
   "outputs": [],
   "source": [
    "!pip install chromedrivermanager"
   ]
  },
  {
   "cell_type": "code",
   "execution_count": null,
   "id": "3a3b2c0b",
   "metadata": {},
   "outputs": [],
   "source": [
    "!pip install pyautogui"
   ]
  },
  {
   "cell_type": "code",
   "execution_count": null,
   "id": "98463938",
   "metadata": {},
   "outputs": [],
   "source": [
    "!pip install time"
   ]
  },
  {
   "cell_type": "code",
   "execution_count": null,
   "id": "0ccbb7ff",
   "metadata": {},
   "outputs": [],
   "source": [
    "!brew cask upgrade chromedriver"
   ]
  },
  {
   "cell_type": "code",
   "execution_count": null,
   "id": "eef4d137",
   "metadata": {},
   "outputs": [],
   "source": [
    "!pip install webdriverexception"
   ]
  },
  {
   "cell_type": "code",
   "execution_count": null,
   "id": "457c74a0",
   "metadata": {},
   "outputs": [],
   "source": [
    "!pip install webdriver"
   ]
  },
  {
   "cell_type": "code",
   "execution_count": null,
   "id": "9e9c6ba2",
   "metadata": {},
   "outputs": [],
   "source": [
    "!pip install driver"
   ]
  },
  {
   "cell_type": "code",
   "execution_count": null,
   "id": "4efc30d3",
   "metadata": {},
   "outputs": [],
   "source": [
    "!pip install reviewstar"
   ]
  },
  {
   "cell_type": "code",
   "execution_count": null,
   "id": "609af92a",
   "metadata": {},
   "outputs": [],
   "source": []
  }
 ],
 "metadata": {
  "kernelspec": {
   "display_name": "Python 3 (ipykernel)",
   "language": "python",
   "name": "python3"
  },
  "language_info": {
   "codemirror_mode": {
    "name": "ipython",
    "version": 3
   },
   "file_extension": ".py",
   "mimetype": "text/x-python",
   "name": "python",
   "nbconvert_exporter": "python",
   "pygments_lexer": "ipython3",
   "version": "3.9.7"
  }
 },
 "nbformat": 4,
 "nbformat_minor": 5
}
