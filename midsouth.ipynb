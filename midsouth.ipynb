{
 "cells": [
  {
   "cell_type": "code",
   "execution_count": 1,
   "id": "e9de25c4",
   "metadata": {},
   "outputs": [],
   "source": [
    "import scrapy\n",
    "\n",
    "class MidsouthSpider(scrapy.Spider):\n",
    "    \n",
    "    name = 'midsouth'\n",
    "\n",
    "    \n",
    "    allowed_domains = ['midsouthshooterssupply.com/dept/reloading/primers']\n",
    "\n",
    "    \n",
    "    start_urls = ['https://www.midsouthshooterssupply.com/dept/reloading/primers']\n",
    "\n",
    "    \n",
    "    custom_settings = {\n",
    "        'FEED_URI' : 'tmp/midsouth.json'\n",
    "    }\n",
    "\n",
    "    def parse(self, response):\n",
    "        \n",
    "        response.selector.remove_namespaces()\n",
    "\n",
    "        \n",
    "        price = response.xpath('//item/price/text()').extract()\n",
    "        description = response.xpath('//item/description/text()').extract()\n",
    "        review = response.xpath('//item/review/text()').extract()\n",
    "        delivery_info= response.xpath('//item/delivery-info/text()').extract()\n",
    "        title = response.xpath('//item/title/text()').extract()\n",
    "        stock_status = response.xpath('//item/stock-status()').extract()\n",
    "        manufacturer = response.xpath('//item/Manufacturer()').extract()\n",
    "\n",
    "        for item in zip(price,description,review,delivery_info,title,stock_status,manufacturer):\n",
    "            scraped_info = {\n",
    "                'price' : item[0],\n",
    "                'description' : item[1],\n",
    "                'review' : item[2],\n",
    "                'delivery_info' : item[3]\n",
    "                'title' : item[4]\n",
    "                'stock_status' : item[5]\n",
    "                'manufacturer' : item[6]\n",
    "            }\n",
    "\n",
    "            yield scraped_info"
   ]
  },
  {
   "cell_type": "code",
   "execution_count": null,
   "id": "3abde493",
   "metadata": {},
   "outputs": [],
   "source": []
  }
 ],
 "metadata": {
  "kernelspec": {
   "display_name": "venkat",
   "language": "python",
   "name": "myenv"
  },
  "language_info": {
   "codemirror_mode": {
    "name": "ipython",
    "version": 3
   },
   "file_extension": ".py",
   "mimetype": "text/x-python",
   "name": "python",
   "nbconvert_exporter": "python",
   "pygments_lexer": "ipython3",
   "version": "3.9.7"
  }
 },
 "nbformat": 4,
 "nbformat_minor": 5
}
